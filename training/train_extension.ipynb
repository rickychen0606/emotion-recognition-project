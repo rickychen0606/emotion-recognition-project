{
  "nbformat": 4,
  "nbformat_minor": 0,
  "metadata": {
    "colab": {
      "provenance": [],
      "gpuType": "T4"
    },
    "kernelspec": {
      "name": "python3",
      "display_name": "Python 3"
    },
    "language_info": {
      "name": "python"
    },
    "accelerator": "GPU"
  },
  "cells": [
    {
      "cell_type": "code",
      "source": [
        "import cv2\n",
        "import os\n",
        "from pathlib import Path\n",
        "\n",
        "# 設定參數\n",
        "video_paths = {\n",
        "    \"boredom\": \"/content/boredom.mp4\",\n",
        "    \"engagement\": \"/content/engagement.mp4\",\n",
        "    \"confusion\": \"/content/confusion.mp4\"\n",
        "}\n",
        "output_dir = \"/content/emotion_extension\"\n",
        "\n",
        "os.makedirs(output_dir, exist_ok=True)\n",
        "face_cascade = cv2.CascadeClassifier(cv2.data.haarcascades + 'haarcascade_frontalface_default.xml')\n",
        "\n",
        "def extract_faces_from_video(video_path, label):\n",
        "    save_path = os.path.join(output_dir, label)\n",
        "    Path(save_path).mkdir(parents=True, exist_ok=True)\n",
        "\n",
        "    cap = cv2.VideoCapture(video_path)\n",
        "    count = 0\n",
        "    frame_interval = 5  # 每 5 幀擷取一張\n",
        "\n",
        "    while True:\n",
        "        ret, frame = cap.read()\n",
        "        if not ret:\n",
        "            break\n",
        "\n",
        "        if count % frame_interval == 0:\n",
        "            gray = cv2.cvtColor(frame, cv2.COLOR_BGR2GRAY)\n",
        "            faces = face_cascade.detectMultiScale(gray, scaleFactor=1.3, minNeighbors=5)\n",
        "\n",
        "            for i, (x, y, w, h) in enumerate(faces):\n",
        "                face_img = frame[y:y+h, x:x+w]\n",
        "                face_img = cv2.resize(face_img, (224, 224))\n",
        "                filename = f\"{label}_{count}_{i}.jpg\"\n",
        "                cv2.imwrite(os.path.join(save_path, filename), face_img)\n",
        "\n",
        "        count += 1\n",
        "\n",
        "    cap.release()\n",
        "    print(f\"✅ {label} done: {count} frames processed.\")\n",
        "\n",
        "# 執行擷取\n",
        "for label, path in video_paths.items():\n",
        "    extract_faces_from_video(path, label)\n"
      ],
      "metadata": {
        "colab": {
          "base_uri": "https://localhost:8080/"
        },
        "id": "NV8cGpVQlZbW",
        "outputId": "613fc34a-3326-4e01-9e0e-0a8f6230b8be"
      },
      "execution_count": 1,
      "outputs": [
        {
          "output_type": "stream",
          "name": "stdout",
          "text": [
            "✅ boredom done: 719 frames processed.\n",
            "✅ engagement done: 737 frames processed.\n",
            "✅ confusion done: 697 frames processed.\n"
          ]
        }
      ]
    },
    {
      "cell_type": "code",
      "source": [
        "import torchvision.transforms as transforms\n",
        "from PIL import Image\n",
        "from pathlib import Path\n",
        "import os\n",
        "from tqdm import tqdm\n",
        "\n",
        "input_dir = \"/content/emotion_extension\"\n",
        "output_dir = \"/content/emotion_extension_augmented\"\n",
        "os.makedirs(output_dir, exist_ok=True)\n",
        "\n",
        "augmentations = transforms.Compose([\n",
        "    transforms.RandomHorizontalFlip(),\n",
        "    transforms.RandomRotation(15),\n",
        "    transforms.ColorJitter(brightness=0.3, contrast=0.3),\n",
        "    transforms.Resize((224, 224))\n",
        "])\n",
        "\n",
        "# 為每個類別執行增強\n",
        "for emotion in os.listdir(input_dir):\n",
        "    input_path = os.path.join(input_dir, emotion)\n",
        "    output_path = os.path.join(output_dir, emotion)\n",
        "    os.makedirs(output_path, exist_ok=True)\n",
        "\n",
        "    for img_file in tqdm(os.listdir(input_path), desc=f\"Augmenting {emotion}\"):\n",
        "        img_path = os.path.join(input_path, img_file)\n",
        "        img = Image.open(img_path).convert('RGB')\n",
        "        for i in range(3):  # 每張原圖生成 3 張增強圖片\n",
        "            aug_img = augmentations(img)\n",
        "            aug_img.save(os.path.join(output_path, f\"{img_file[:-4]}_aug{i}.jpg\"))\n",
        "\n",
        "print(\"✅ Augmentation completed.\")\n"
      ],
      "metadata": {
        "colab": {
          "base_uri": "https://localhost:8080/"
        },
        "id": "1TAG3G5qla9j",
        "outputId": "908f4b1f-160b-4149-cc13-1e748475d260"
      },
      "execution_count": 2,
      "outputs": [
        {
          "output_type": "stream",
          "name": "stderr",
          "text": [
            "Augmenting confusion: 100%|██████████| 110/110 [00:00<00:00, 154.29it/s]\n",
            "Augmenting boredom: 100%|██████████| 139/139 [00:00<00:00, 166.05it/s]\n",
            "Augmenting engagement: 100%|██████████| 145/145 [00:00<00:00, 165.00it/s]"
          ]
        },
        {
          "output_type": "stream",
          "name": "stdout",
          "text": [
            "✅ Augmentation completed.\n"
          ]
        },
        {
          "output_type": "stream",
          "name": "stderr",
          "text": [
            "\n"
          ]
        }
      ]
    },
    {
      "cell_type": "code",
      "source": [
        "import os\n",
        "import torch\n",
        "import torch.nn as nn\n",
        "import torch.optim as optim\n",
        "from torchvision import transforms, datasets, models\n",
        "from torch.utils.data import DataLoader, random_split\n",
        "from torchvision.models import efficientnet_b0\n",
        "from tqdm import tqdm\n",
        "\n",
        "# ✅ 設定 device\n",
        "device = torch.device(\"cuda\" if torch.cuda.is_available() else \"cpu\")\n",
        "\n",
        "# ✅ 資料路徑與轉換\n",
        "data_dir = \"/content/emotion_extension_augmented\"\n",
        "transform = transforms.Compose([\n",
        "    transforms.Resize((224, 224)),\n",
        "    transforms.RandomHorizontalFlip(),\n",
        "    transforms.RandomRotation(10),\n",
        "    transforms.ColorJitter(brightness=0.1, contrast=0.1),\n",
        "    transforms.ToTensor(),\n",
        "])\n",
        "\n",
        "# ✅ 載入完整資料集\n",
        "full_dataset = datasets.ImageFolder(data_dir, transform=transform)\n",
        "\n",
        "# ✅ 切分為訓練集與驗證集（80/20）\n",
        "train_size = int(0.8 * len(full_dataset))\n",
        "val_size = len(full_dataset) - train_size\n",
        "train_dataset, val_dataset = random_split(full_dataset, [train_size, val_size])\n",
        "\n",
        "train_loader = DataLoader(train_dataset, batch_size=32, shuffle=True)\n",
        "val_loader = DataLoader(val_dataset, batch_size=32, shuffle=False)\n",
        "\n",
        "# ✅ 載入舊模型並替換分類器（7→3）\n",
        "pretrained_model_path = \"/content/raf-db_efficientnet_b0.pth\"\n",
        "model = efficientnet_b0(weights=None)\n",
        "model.classifier[1] = nn.Linear(model.classifier[1].in_features, 7)\n",
        "model.load_state_dict(torch.load(pretrained_model_path))  # 先依原架構載入\n",
        "\n",
        "# ✅ 轉為 3 類新情緒分類\n",
        "model.classifier[1] = nn.Linear(model.classifier[1].in_features, 3)\n",
        "\n",
        "# ✅ 凍結 feature extractor\n",
        "for param in model.features.parameters():\n",
        "    param.requires_grad = False\n",
        "\n",
        "model = model.to(device)\n",
        "\n",
        "# ✅ Loss & Optimizer\n",
        "criterion = nn.CrossEntropyLoss()\n",
        "optimizer = optim.Adam(model.classifier.parameters(), lr=1e-4)\n",
        "\n",
        "# ✅ 開始訓練\n",
        "epochs = 5\n",
        "for epoch in range(epochs):\n",
        "    model.train()\n",
        "    train_loss, train_correct, train_total = 0.0, 0, 0\n",
        "\n",
        "    for images, labels in tqdm(train_loader, desc=f\"[Train] Epoch {epoch+1}/{epochs}\"):\n",
        "        images, labels = images.to(device), labels.to(device)\n",
        "        optimizer.zero_grad()\n",
        "\n",
        "        outputs = model(images)\n",
        "        loss = criterion(outputs, labels)\n",
        "        loss.backward()\n",
        "        optimizer.step()\n",
        "\n",
        "        train_loss += loss.item()\n",
        "        _, predicted = torch.max(outputs, 1)\n",
        "        train_correct += (predicted == labels).sum().item()\n",
        "        train_total += labels.size(0)\n",
        "\n",
        "    train_acc = train_correct / train_total\n",
        "\n",
        "    # ✅ 驗證階段\n",
        "    model.eval()\n",
        "    val_loss, val_correct, val_total = 0.0, 0, 0\n",
        "    with torch.no_grad():\n",
        "        for images, labels in val_loader:\n",
        "            images, labels = images.to(device), labels.to(device)\n",
        "            outputs = model(images)\n",
        "            loss = criterion(outputs, labels)\n",
        "\n",
        "            val_loss += loss.item()\n",
        "            _, predicted = torch.max(outputs, 1)\n",
        "            val_correct += (predicted == labels).sum().item()\n",
        "            val_total += labels.size(0)\n",
        "\n",
        "    val_acc = val_correct / val_total\n",
        "\n",
        "    print(f\"✅ Epoch {epoch+1}: Train Acc: {train_acc:.4f}, Val Acc: {val_acc:.4f}\")\n",
        "\n",
        "# ✅ 儲存模型\n",
        "save_path = \"/content/models/efficientnet/emotion_extension_transfer_split.pth\"\n",
        "os.makedirs(os.path.dirname(save_path), exist_ok=True)\n",
        "torch.save(model.state_dict(), save_path)\n",
        "print(f\"🎉 Model saved to {save_path}\")\n"
      ],
      "metadata": {
        "colab": {
          "base_uri": "https://localhost:8080/"
        },
        "id": "KzTMBXDImId5",
        "outputId": "1a58ab6d-fd8f-4a00-882c-12b4b8422044"
      },
      "execution_count": 6,
      "outputs": [
        {
          "output_type": "stream",
          "name": "stderr",
          "text": [
            "[Train] Epoch 1/5: 100%|██████████| 30/30 [00:03<00:00,  7.78it/s]\n"
          ]
        },
        {
          "output_type": "stream",
          "name": "stdout",
          "text": [
            "✅ Epoch 1: Train Acc: 0.4466, Val Acc: 0.6709\n"
          ]
        },
        {
          "output_type": "stream",
          "name": "stderr",
          "text": [
            "[Train] Epoch 2/5: 100%|██████████| 30/30 [00:04<00:00,  7.31it/s]\n"
          ]
        },
        {
          "output_type": "stream",
          "name": "stdout",
          "text": [
            "✅ Epoch 2: Train Acc: 0.6571, Val Acc: 0.7595\n"
          ]
        },
        {
          "output_type": "stream",
          "name": "stderr",
          "text": [
            "[Train] Epoch 3/5: 100%|██████████| 30/30 [00:03<00:00,  8.09it/s]\n"
          ]
        },
        {
          "output_type": "stream",
          "name": "stdout",
          "text": [
            "✅ Epoch 3: Train Acc: 0.7291, Val Acc: 0.7848\n"
          ]
        },
        {
          "output_type": "stream",
          "name": "stderr",
          "text": [
            "[Train] Epoch 4/5: 100%|██████████| 30/30 [00:03<00:00,  8.16it/s]\n"
          ]
        },
        {
          "output_type": "stream",
          "name": "stdout",
          "text": [
            "✅ Epoch 4: Train Acc: 0.7407, Val Acc: 0.7932\n"
          ]
        },
        {
          "output_type": "stream",
          "name": "stderr",
          "text": [
            "[Train] Epoch 5/5: 100%|██████████| 30/30 [00:04<00:00,  6.93it/s]\n"
          ]
        },
        {
          "output_type": "stream",
          "name": "stdout",
          "text": [
            "✅ Epoch 5: Train Acc: 0.7683, Val Acc: 0.8312\n",
            "🎉 Model saved to /content/models/efficientnet/emotion_extension_transfer_split.pth\n"
          ]
        }
      ]
    },
    {
      "cell_type": "code",
      "source": [
        "import os\n",
        "import torch\n",
        "import torch.nn as nn\n",
        "from torchvision import datasets, transforms\n",
        "from torchvision.models import efficientnet_b0\n",
        "from torch.utils.data import random_split, DataLoader\n",
        "from sklearn.metrics import classification_report, confusion_matrix\n",
        "import seaborn as sns\n",
        "import matplotlib.pyplot as plt\n",
        "import numpy as np\n",
        "\n",
        "# ✅ 設定 device\n",
        "device = torch.device(\"cuda\" if torch.cuda.is_available() else \"cpu\")\n",
        "\n",
        "# ✅ 前處理與資料載入\n",
        "data_dir = \"/content/emotion_extension_augmented\"\n",
        "transform = transforms.Compose([\n",
        "    transforms.Resize((224, 224)),\n",
        "    transforms.ToTensor(),\n",
        "])\n",
        "dataset = datasets.ImageFolder(data_dir, transform=transform)\n",
        "\n",
        "# ✅ 切分資料集（80% train / 20% val）\n",
        "val_size = int(0.2 * len(dataset))\n",
        "train_size = len(dataset) - val_size\n",
        "_, val_dataset = random_split(dataset, [train_size, val_size])\n",
        "val_loader = DataLoader(val_dataset, batch_size=32, shuffle=False)\n",
        "\n",
        "# ✅ 模型載入\n",
        "model = efficientnet_b0(weights=None)\n",
        "model.classifier[1] = nn.Linear(model.classifier[1].in_features, 3)\n",
        "model.load_state_dict(torch.load(\"/content/models/efficientnet/emotion_extension_transfer_split.pth\"))\n",
        "model = model.to(device)\n",
        "model.eval()\n",
        "\n",
        "# ✅ 評估指標計算\n",
        "y_true, y_pred = [], []\n",
        "with torch.no_grad():\n",
        "    for images, labels in val_loader:\n",
        "        images, labels = images.to(device), labels.to(device)\n",
        "        outputs = model(images)\n",
        "        _, predicted = torch.max(outputs, 1)\n",
        "        y_true.extend(labels.cpu().numpy())\n",
        "        y_pred.extend(predicted.cpu().numpy())\n",
        "\n",
        "# ✅ 報告與混淆矩陣\n",
        "target_names = dataset.classes\n",
        "print(\"\\n📋 Classification Report:\\n\")\n",
        "print(classification_report(y_true, y_pred, target_names=target_names))\n",
        "\n",
        "cm = confusion_matrix(y_true, y_pred)\n",
        "plt.figure(figsize=(6, 5))\n",
        "sns.heatmap(cm, annot=True, fmt='d', cmap='Blues', xticklabels=target_names, yticklabels=target_names)\n",
        "plt.xlabel('Predicted')\n",
        "plt.ylabel('Actual')\n",
        "plt.title('Confusion Matrix')\n",
        "plt.show()\n"
      ],
      "metadata": {
        "colab": {
          "base_uri": "https://localhost:8080/",
          "height": 713
        },
        "id": "Ku1L9n38ueDA",
        "outputId": "4adcad83-4107-40d1-95f2-e03c3f822218"
      },
      "execution_count": 7,
      "outputs": [
        {
          "output_type": "stream",
          "name": "stdout",
          "text": [
            "\n",
            "📋 Classification Report:\n",
            "\n",
            "              precision    recall  f1-score   support\n",
            "\n",
            "     boredom       0.80      0.84      0.82        80\n",
            "   confusion       0.76      0.79      0.77        75\n",
            "  engagement       0.76      0.69      0.72        81\n",
            "\n",
            "    accuracy                           0.77       236\n",
            "   macro avg       0.77      0.77      0.77       236\n",
            "weighted avg       0.77      0.77      0.77       236\n",
            "\n"
          ]
        },
        {
          "output_type": "display_data",
          "data": {
            "text/plain": [
              "<Figure size 600x500 with 2 Axes>"
            ],
            "image/png": "[encoded data removed]"
          },
          "metadata": {}
        }
      ]
    }
  ]
}