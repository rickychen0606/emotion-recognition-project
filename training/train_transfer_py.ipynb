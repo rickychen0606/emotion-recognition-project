{
  "nbformat": 4,
  "nbformat_minor": 0,
  "metadata": {
    "colab": {
      "provenance": [],
      "gpuType": "T4"
    },
    "kernelspec": {
      "name": "python3",
      "display_name": "Python 3"
    },
    "language_info": {
      "name": "python"
    },
    "accelerator": "GPU"
  },
  "cells": [
    {
      "cell_type": "code",
      "execution_count": 1,
      "metadata": {
        "id": "vQLxwiL1co4u",
        "colab": {
          "base_uri": "https://localhost:8080/"
        },
        "outputId": "41b6e009-a939-43f5-8be4-690d04e86bb9"
      },
      "outputs": [
        {
          "output_type": "stream",
          "name": "stdout",
          "text": [
            "✅ happy done: 67 faces saved.\n",
            "✅ sad done: 109 faces saved.\n",
            "✅ surprise done: 61 faces saved.\n",
            "🎉 All videos processed!\n"
          ]
        }
      ],
      "source": [
        "import cv2\n",
        "import os\n",
        "\n",
        "# Emotion video sources\n",
        "video_paths = {\n",
        "    \"happy\": \"/content/happy.mp4\",\n",
        "    \"sad\": \"/content/sad.mp4\",\n",
        "    \"surprise\": \"/content/surprise.mp4\"\n",
        "}\n",
        "\n",
        "# Output directory\n",
        "output_dir = \"/content/personal_faces\"\n",
        "os.makedirs(output_dir, exist_ok=True)\n",
        "\n",
        "# Load face detector\n",
        "face_cascade = cv2.CascadeClassifier(cv2.data.haarcascades + \"haarcascade_frontalface_default.xml\")\n",
        "\n",
        "# Frame interval (e.g., every 5 frames)\n",
        "frame_interval = 5\n",
        "\n",
        "for emotion, path in video_paths.items():\n",
        "    cap = cv2.VideoCapture(path)\n",
        "    count = 0\n",
        "    saved = 0\n",
        "    save_path = os.path.join(output_dir, emotion)\n",
        "    os.makedirs(save_path, exist_ok=True)\n",
        "\n",
        "    while cap.isOpened():\n",
        "        ret, frame = cap.read()\n",
        "        if not ret:\n",
        "            break\n",
        "\n",
        "        if count % frame_interval == 0:\n",
        "            gray = cv2.cvtColor(frame, cv2.COLOR_BGR2GRAY)\n",
        "            faces = face_cascade.detectMultiScale(gray, scaleFactor=1.3, minNeighbors=5)\n",
        "\n",
        "            for i, (x, y, w, h) in enumerate(faces):\n",
        "                face = frame[y:y+h, x:x+w]\n",
        "                face = cv2.resize(face, (224, 224))\n",
        "                filename = f\"{emotion}_{saved:04d}.jpg\"\n",
        "                cv2.imwrite(os.path.join(save_path, filename), face)\n",
        "                saved += 1\n",
        "\n",
        "        count += 1\n",
        "\n",
        "    cap.release()\n",
        "    print(f\"✅ {emotion} done: {saved} faces saved.\")\n",
        "\n",
        "print(\"🎉 All videos processed!\")\n"
      ]
    },
    {
      "cell_type": "code",
      "source": [
        "import os\n",
        "from PIL import Image\n",
        "import torchvision.transforms as transforms\n",
        "from tqdm import tqdm\n",
        "\n",
        "# 原始與目標資料夾\n",
        "input_root = \"/content/personal_faces\"\n",
        "output_root = \"/content/personal_faces_augmented\"\n",
        "\n",
        "# 定義增強操作（每張圖產生 3 張）\n",
        "augmentations = transforms.Compose([\n",
        "    transforms.RandomHorizontalFlip(p=1.0),\n",
        "    transforms.RandomRotation(30),\n",
        "    transforms.ColorJitter(brightness=0.3, contrast=0.3),\n",
        "    transforms.Resize((224, 224))\n",
        "])\n",
        "\n",
        "# 建立輸出資料夾\n",
        "os.makedirs(output_root, exist_ok=True)\n",
        "\n",
        "# 開始增強每一類情緒\n",
        "for emotion in os.listdir(input_root):\n",
        "    input_dir = os.path.join(input_root, emotion)\n",
        "    output_dir = os.path.join(output_root, emotion)\n",
        "    os.makedirs(output_dir, exist_ok=True)\n",
        "\n",
        "    image_files = [f for f in os.listdir(input_dir) if f.lower().endswith(('.png', '.jpg', '.jpeg'))]\n",
        "\n",
        "    for file in tqdm(image_files, desc=f\"🔁 Augmenting {emotion}\"):\n",
        "        img_path = os.path.join(input_dir, file)\n",
        "        img = Image.open(img_path).convert(\"RGB\")\n",
        "\n",
        "        # 存原圖\n",
        "        img.resize((224, 224)).save(os.path.join(output_dir, file))\n",
        "\n",
        "        # 存增強圖\n",
        "        for i in range(1, 4):  # 3 augmented versions\n",
        "            augmented = augmentations(img)\n",
        "            new_filename = f\"{os.path.splitext(file)[0]}_aug{i}.jpg\"\n",
        "            augmented.save(os.path.join(output_dir, new_filename))\n",
        "\n",
        "print(\"✅ Data augmentation complete! Augmented images saved to /content/personal_faces_augmented/\")\n"
      ],
      "metadata": {
        "colab": {
          "base_uri": "https://localhost:8080/"
        },
        "id": "USyqhsNDeIgN",
        "outputId": "db6e2ab7-3aec-4d81-db70-13dee615599c"
      },
      "execution_count": 2,
      "outputs": [
        {
          "output_type": "stream",
          "name": "stderr",
          "text": [
            "🔁 Augmenting sad: 100%|██████████| 109/109 [00:01<00:00, 62.40it/s]\n",
            "🔁 Augmenting happy: 100%|██████████| 67/67 [00:01<00:00, 56.28it/s]\n",
            "🔁 Augmenting surprise: 100%|██████████| 61/61 [00:00<00:00, 146.63it/s]"
          ]
        },
        {
          "output_type": "stream",
          "name": "stdout",
          "text": [
            "✅ Data augmentation complete! Augmented images saved to /content/personal_faces_augmented/\n"
          ]
        },
        {
          "output_type": "stream",
          "name": "stderr",
          "text": [
            "\n"
          ]
        }
      ]
    },
    {
      "cell_type": "code",
      "source": [
        "import os\n",
        "import torch\n",
        "import torch.nn as nn\n",
        "from torchvision import datasets, transforms\n",
        "from torchvision.models import efficientnet_b0\n",
        "from torch.utils.data import DataLoader\n",
        "from torch.optim import Adam\n",
        "from tqdm import tqdm\n",
        "\n",
        "# 設定路徑\n",
        "data_dir = \"/content/personal_faces_augmented\"\n",
        "pretrained_model_path = \"/content/raf-db_efficientnet_b0.pth\"\n",
        "save_path = \"/content/models/efficientnet/personal_transfer.pth\"\n",
        "\n",
        "# 設定裝置\n",
        "device = torch.device(\"cuda\" if torch.cuda.is_available() else \"cpu\")\n",
        "\n",
        "# 資料轉換\n",
        "transform = transforms.Compose([\n",
        "    transforms.Resize((224, 224)),\n",
        "    transforms.ToTensor()\n",
        "])\n",
        "\n",
        "# 載入資料\n",
        "dataset = datasets.ImageFolder(data_dir, transform=transform)\n",
        "dataloader = DataLoader(dataset, batch_size=32, shuffle=True)\n",
        "\n",
        "# 建立模型 & 替換分類頭\n",
        "model = efficientnet_b0(weights=None)\n",
        "model.classifier[1] = nn.Linear(model.classifier[1].in_features, len(dataset.classes))\n",
        "\n",
        "# 載入 feature extractor 的預訓練參數（跳過 classifier）\n",
        "state_dict = torch.load(pretrained_model_path)\n",
        "model.load_state_dict({k: v for k, v in state_dict.items() if 'classifier.1' not in k}, strict=False)\n",
        "\n",
        "model = model.to(device)\n",
        "\n",
        "# 訓練設定\n",
        "criterion = nn.CrossEntropyLoss()\n",
        "optimizer = Adam(model.parameters(), lr=1e-4)\n",
        "\n",
        "# 訓練\n",
        "model.train()\n",
        "for epoch in range(5):\n",
        "    total_loss = 0\n",
        "    correct = 0\n",
        "    total = 0\n",
        "    loop = tqdm(dataloader, desc=f\"Epoch [{epoch+1}/5]\")\n",
        "    for images, labels in loop:\n",
        "        images, labels = images.to(device), labels.to(device)\n",
        "        outputs = model(images)\n",
        "        loss = criterion(outputs, labels)\n",
        "\n",
        "        optimizer.zero_grad()\n",
        "        loss.backward()\n",
        "        optimizer.step()\n",
        "\n",
        "        _, preds = torch.max(outputs, 1)\n",
        "        correct += (preds == labels).sum().item()\n",
        "        total += labels.size(0)\n",
        "        total_loss += loss.item()\n",
        "\n",
        "        loop.set_postfix(loss=loss.item(), acc=correct/total)\n",
        "\n",
        "# 儲存\n",
        "os.makedirs(os.path.dirname(save_path), exist_ok=True)\n",
        "torch.save(model.state_dict(), save_path)\n",
        "print(f\"✅ Model saved to {save_path}\")\n"
      ],
      "metadata": {
        "colab": {
          "base_uri": "https://localhost:8080/"
        },
        "id": "yTsj9hfFfp16",
        "outputId": "97695207-49d5-48e1-967b-3da8e173111c"
      },
      "execution_count": 4,
      "outputs": [
        {
          "output_type": "stream",
          "name": "stderr",
          "text": [
            "Epoch [1/5]: 100%|██████████| 30/30 [00:07<00:00,  4.17it/s, acc=0.926, loss=0.0592]\n",
            "Epoch [2/5]: 100%|██████████| 30/30 [00:05<00:00,  5.59it/s, acc=0.995, loss=0.0193]\n",
            "Epoch [3/5]: 100%|██████████| 30/30 [00:05<00:00,  5.60it/s, acc=1, loss=0.0136]\n",
            "Epoch [4/5]: 100%|██████████| 30/30 [00:05<00:00,  5.68it/s, acc=1, loss=0.016]\n",
            "Epoch [5/5]: 100%|██████████| 30/30 [00:05<00:00,  5.50it/s, acc=0.999, loss=0.00814]"
          ]
        },
        {
          "output_type": "stream",
          "name": "stdout",
          "text": [
            "✅ Model saved to /content/models/efficientnet/personal_transfer.pth\n"
          ]
        },
        {
          "output_type": "stream",
          "name": "stderr",
          "text": [
            "\n"
          ]
        }
      ]
    },
    {
      "cell_type": "code",
      "source": [
        "# ✅ 驗證流程：擷取影片 → 增強影像 → 載入模型 → 評估效能\n",
        "import os, cv2, torch, shutil\n",
        "import numpy as np\n",
        "import matplotlib.pyplot as plt\n",
        "from PIL import Image\n",
        "from tqdm import tqdm\n",
        "from sklearn.metrics import accuracy_score, f1_score, classification_report, confusion_matrix\n",
        "import seaborn as sns\n",
        "\n",
        "from torchvision import transforms\n",
        "from torchvision.datasets import ImageFolder\n",
        "from torch.utils.data import DataLoader\n",
        "from torchvision.models import efficientnet_b0\n",
        "import torch.nn as nn\n",
        "from torchvision.transforms import functional as F\n",
        "\n",
        "device = torch.device(\"cuda\" if torch.cuda.is_available() else \"cpu\")\n",
        "print(\"✅ Device:\", device)\n",
        "\n",
        "# -------------------- Step 1: 擷取影片中的臉部 --------------------\n",
        "video_paths = {\n",
        "    \"happy\": \"/content/happy_val.mp4\",\n",
        "    \"sad\": \"/content/sad_val.mp4\",\n",
        "    \"surprise\": \"/content/surprise_val.mp4\"\n",
        "}\n",
        "raw_dir = \"/content/validation_faces_raw\"\n",
        "os.makedirs(raw_dir, exist_ok=True)\n",
        "face_cascade = cv2.CascadeClassifier(cv2.data.haarcascades + 'haarcascade_frontalface_default.xml')\n",
        "\n",
        "for emotion, video_path in video_paths.items():\n",
        "    save_dir = os.path.join(raw_dir, emotion)\n",
        "    os.makedirs(save_dir, exist_ok=True)\n",
        "    cap = cv2.VideoCapture(video_path)\n",
        "    frame_id, count = 0, 0\n",
        "    while cap.isOpened():\n",
        "        ret, frame = cap.read()\n",
        "        if not ret: break\n",
        "        frame_id += 1\n",
        "        if frame_id % 5 != 0: continue\n",
        "        gray = cv2.cvtColor(frame, cv2.COLOR_BGR2GRAY)\n",
        "        faces = face_cascade.detectMultiScale(gray, 1.3, 5)\n",
        "        for (x, y, w, h) in faces:\n",
        "            face = cv2.resize(frame[y:y+h, x:x+w], (224, 224))\n",
        "            cv2.imwrite(os.path.join(save_dir, f\"{count}.jpg\"), face)\n",
        "            count += 1\n",
        "    cap.release()\n",
        "    print(f\"✅ {emotion} done: {count} faces saved.\")\n",
        "\n",
        "# -------------------- Step 2: 資料增強 --------------------\n",
        "aug_dir = \"/content/validation_faces_augmented\"\n",
        "os.makedirs(aug_dir, exist_ok=True)\n",
        "augmentations = transforms.Compose([\n",
        "    transforms.RandomHorizontalFlip(),\n",
        "    transforms.RandomRotation(10),\n",
        "    transforms.ColorJitter(brightness=0.3, contrast=0.3),\n",
        "    transforms.ToTensor()\n",
        "])\n",
        "for class_name in os.listdir(raw_dir):\n",
        "    in_dir = os.path.join(raw_dir, class_name)\n",
        "    out_dir = os.path.join(aug_dir, class_name)\n",
        "    os.makedirs(out_dir, exist_ok=True)\n",
        "    for img_name in os.listdir(in_dir):\n",
        "        img_path = os.path.join(in_dir, img_name)\n",
        "        img = Image.open(img_path)\n",
        "        for i in range(2):  # 原圖 + 2張增強圖\n",
        "            aug_img = augmentations(img)\n",
        "            F.to_pil_image(aug_img).save(os.path.join(out_dir, f\"{img_name[:-4]}_aug{i}.jpg\"))\n",
        "\n",
        "# -------------------- Step 3: 載入模型並評估 --------------------\n",
        "transform = transforms.Compose([\n",
        "    transforms.Resize((224, 224)),\n",
        "    transforms.ToTensor()\n",
        "])\n",
        "dataset = ImageFolder(aug_dir, transform=transform)\n",
        "loader = DataLoader(dataset, batch_size=32, shuffle=False)\n",
        "\n",
        "model_path = \"/content/models/efficientnet/personal_transfer.pth\"\n",
        "model = efficientnet_b0(weights=None)\n",
        "model.classifier[1] = nn.Linear(model.classifier[1].in_features, len(dataset.classes))\n",
        "model.load_state_dict(torch.load(model_path))\n",
        "model = model.to(device)\n",
        "model.eval()\n",
        "\n",
        "y_true, y_pred = [], []\n",
        "with torch.no_grad():\n",
        "    for images, labels in loader:\n",
        "        images = images.to(device)\n",
        "        outputs = model(images)\n",
        "        preds = torch.argmax(outputs, dim=1)\n",
        "        y_true.extend(labels.cpu().numpy())\n",
        "        y_pred.extend(preds.cpu().numpy())\n",
        "\n",
        "# -------------------- Step 4: 輸出結果 --------------------\n",
        "acc = accuracy_score(y_true, y_pred)\n",
        "f1 = f1_score(y_true, y_pred, average=\"weighted\")\n",
        "print(f\"\\n✅ Accuracy: {acc:.4f}\\n✅ F1 Score: {f1:.4f}\")\n",
        "print(\"\\n📋 Classification Report:\\n\", classification_report(y_true, y_pred, target_names=dataset.classes))\n",
        "\n",
        "cm = confusion_matrix(y_true, y_pred)\n",
        "plt.figure(figsize=(6,5))\n",
        "sns.heatmap(cm, annot=True, fmt=\"d\", cmap=\"Blues\", xticklabels=dataset.classes, yticklabels=dataset.classes)\n",
        "plt.xlabel(\"Predicted\")\n",
        "plt.ylabel(\"Actual\")\n",
        "plt.title(\"Confusion Matrix\")\n",
        "plt.show()\n"
      ],
      "metadata": {
        "colab": {
          "base_uri": "https://localhost:8080/",
          "height": 817
        },
        "id": "d0yXerZLhzOe",
        "outputId": "f375bd59-cb1d-42a9-9d42-02bd42ab2f6d"
      },
      "execution_count": 7,
      "outputs": [
        {
          "output_type": "stream",
          "name": "stdout",
          "text": [
            "✅ Device: cuda\n",
            "✅ happy done: 46 faces saved.\n",
            "✅ sad done: 57 faces saved.\n",
            "✅ surprise done: 26 faces saved.\n",
            "\n",
            "✅ Accuracy: 0.5978\n",
            "✅ F1 Score: 0.5671\n",
            "\n",
            "📋 Classification Report:\n",
            "               precision    recall  f1-score   support\n",
            "\n",
            "       happy       0.61      0.90      0.73        92\n",
            "         sad       1.00      0.30      0.46       132\n",
            "    surprise       0.42      0.83      0.56        52\n",
            "\n",
            "    accuracy                           0.60       276\n",
            "   macro avg       0.68      0.67      0.58       276\n",
            "weighted avg       0.76      0.60      0.57       276\n",
            "\n"
          ]
        },
        {
          "output_type": "display_data",
          "data": {
            "text/plain": [
              "<Figure size 600x500 with 2 Axes>"
            ],
            "image/png": "[encoded data removed]"
          },
          "metadata": {}
        }
      ]
    }
  ]
}